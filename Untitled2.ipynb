{
 "cells": [
  {
   "cell_type": "markdown",
   "metadata": {},
   "source": [
    "# ASSIGNMENT Studnet marks, persontage, total marks, grade..."
   ]
  },
  {
   "cell_type": "markdown",
   "metadata": {},
   "source": [
    "1 : Declare and initialize a variable name total_marks with a value 600"
   ]
  },
  {
   "cell_type": "code",
   "execution_count": 7,
   "metadata": {},
   "outputs": [
    {
     "data": {
      "text/plain": [
       "600"
      ]
     },
     "execution_count": 7,
     "metadata": {},
     "output_type": "execute_result"
    }
   ],
   "source": [
    "total_marks = 600\n",
    "total_marks"
   ]
  },
  {
   "cell_type": "markdown",
   "metadata": {},
   "source": [
    "2 : Declare and initialize 5 variables name maths , english , urdu , physics and chemisrty with different integer values"
   ]
  },
  {
   "cell_type": "code",
   "execution_count": 13,
   "metadata": {},
   "outputs": [
    {
     "name": "stdout",
     "output_type": "stream",
     "text": [
      "95\n",
      "86\n",
      "80\n",
      "81\n",
      "67\n",
      "80\n"
     ]
    }
   ],
   "source": [
    "maths = 95\n",
    "english = 86\n",
    "urdu = 80\n",
    "physics = 81\n",
    "chemistry = 67\n",
    "computer = 80\n",
    "\n",
    "print(maths)\n",
    "print(english)\n",
    "print(urdu)\n",
    "print(physics)\n",
    "print(chemistry)\n",
    "print(computer)\n"
   ]
  },
  {
   "cell_type": "markdown",
   "metadata": {},
   "source": [
    "3 : Calculate the obtained marks And assign the value In variable name obtained_marks"
   ]
  },
  {
   "cell_type": "code",
   "execution_count": 14,
   "metadata": {},
   "outputs": [
    {
     "data": {
      "text/plain": [
       "489"
      ]
     },
     "execution_count": 14,
     "metadata": {},
     "output_type": "execute_result"
    }
   ],
   "source": [
    "obtained_marks = 489\n",
    "obtained_marks"
   ]
  },
  {
   "cell_type": "markdown",
   "metadata": {},
   "source": [
    "4 : Calculate percentage and assign the value in variable name percentage"
   ]
  },
  {
   "cell_type": "code",
   "execution_count": 15,
   "metadata": {},
   "outputs": [
    {
     "data": {
      "text/plain": [
       "81.5"
      ]
     },
     "execution_count": 15,
     "metadata": {},
     "output_type": "execute_result"
    }
   ],
   "source": [
    "percentage = 489/600 * 100\n",
    "percentage"
   ]
  },
  {
   "cell_type": "markdown",
   "metadata": {},
   "source": [
    "5 : Declare and initialize an empty variable name grade "
   ]
  },
  {
   "cell_type": "code",
   "execution_count": 17,
   "metadata": {},
   "outputs": [
    {
     "data": {
      "text/plain": [
       "''"
      ]
     },
     "execution_count": 17,
     "metadata": {},
     "output_type": "execute_result"
    }
   ],
   "source": [
    "grade = \"\"\n",
    "grade"
   ]
  },
  {
   "cell_type": "markdown",
   "metadata": {},
   "source": [
    "6 : assign a vlue to grade by checking the following conditions:: \n",
    "if % is greater then and equal to 90 and less then 100 grade is A+ \n",
    "if % is greater then and equal to 80 and less then 90 grade is A \n",
    "if % is greater then and equal to 70 and less then 80 grade is B \n",
    "if % is greater then and equal to 60 and less then 70 grade is C\n",
    "if % is greater then and equal to 50 and less then 60 grade is D\n",
    "if % is less than 60 grade is FAIL "
   ]
  },
  {
   "cell_type": "code",
   "execution_count": 18,
   "metadata": {},
   "outputs": [],
   "source": [
    "if(percentage >= 90 and percentage < 100):\n",
    "  grade = \"A+\"\n",
    "\n",
    "if percentage >= 80 and percentage < 90:\n",
    "  grade = \"A\"\n",
    "  \n",
    "if percentage >= 70 and percentage < 80:\n",
    "  grade = \"B\"\n",
    "\n",
    "if percentage >= 60 and percentage < 70:\n",
    "  grade = \"C\"\n",
    "\n",
    "if percentage >= 50 and percentage < 60:\n",
    "  grade = \"D\"\n",
    "  \n",
    "if percentage < 59:\n",
    "  grade = \"FAIL\""
   ]
  },
  {
   "cell_type": "markdown",
   "metadata": {},
   "source": [
    "7 : Print grade percentage and obtained marks"
   ]
  },
  {
   "cell_type": "code",
   "execution_count": 19,
   "metadata": {},
   "outputs": [
    {
     "data": {
      "text/plain": [
       "'A'"
      ]
     },
     "execution_count": 19,
     "metadata": {},
     "output_type": "execute_result"
    }
   ],
   "source": [
    "grade"
   ]
  },
  {
   "cell_type": "code",
   "execution_count": null,
   "metadata": {},
   "outputs": [],
   "source": []
  }
 ],
 "metadata": {
  "kernelspec": {
   "display_name": "Python 3",
   "language": "python",
   "name": "python3"
  },
  "language_info": {
   "codemirror_mode": {
    "name": "ipython",
    "version": 3
   },
   "file_extension": ".py",
   "mimetype": "text/x-python",
   "name": "python",
   "nbconvert_exporter": "python",
   "pygments_lexer": "ipython3",
   "version": "3.6.5"
  }
 },
 "nbformat": 4,
 "nbformat_minor": 2
}
