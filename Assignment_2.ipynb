{
 "cells": [
  {
   "cell_type": "markdown",
   "metadata": {},
   "source": [
    "<h3>Q no 1:  Write a python program to find number of occurrences of given number in a list with out using built-in methods</h3>\n",
    "<h4>**1 generate a list of some random num which is repeated again and again</h4>\n",
    "<h4>**2 take user input any number</h4>\n",
    "<h4>**3 find the number of occurrences of that num in your list</h4>\n",
    "<h4>**4 print some message to user with that result</h4>"
   ]
  },
  {
   "cell_type": "code",
   "execution_count": 6,
   "metadata": {},
   "outputs": [
    {
     "name": "stdout",
     "output_type": "stream",
     "text": [
      "Enter Number : 6\n",
      "Occurences : 2\n"
     ]
    }
   ],
   "source": [
    "count = 0\n",
    "num = [4,3,6,5,7,3,4,5,6,5,4,3,2,3]\n",
    "n = int(input('Enter Number : '))\n",
    "for m in num:\n",
    "    if n == m:\n",
    "        count += 1\n",
    "print('Occurences : {}'.format(count))"
   ]
  },
  {
   "cell_type": "markdown",
   "metadata": {},
   "source": [
    "<h3>Q no 2:   [\"www.zframez.com\", \"www.wikipedia.org\", \"www.asp.net\", \"www.abcd.in\"]\n",
    "<br/><br/><br/><br/><br/>\n",
    "Write a python program to print website suffixes (com , org , net ,in) from this list\n",
    "</h3>"
   ]
  },
  {
   "cell_type": "code",
   "execution_count": 7,
   "metadata": {},
   "outputs": [
    {
     "name": "stdout",
     "output_type": "stream",
     "text": [
      "com\n",
      "org\n",
      "net\n",
      "in\n"
     ]
    }
   ],
   "source": [
    "names = [\"www.zframez.com\", \"www.wikipedia.org\", \"www.asp.net\", \"www.abcd.in\"]\n",
    "for name in names:\n",
    "    content = name.split('.')\n",
    "    print(content[-1])"
   ]
  },
  {
   "cell_type": "markdown",
   "metadata": {},
   "source": [
    "<h3> Q no 3 : Write a program which can compute the factorial of a given numbers.</h3>\n",
    "<br/>\n",
    "<br/>\n",
    "<h4>**1 first take user input any number</h4>\n",
    "<h4>**2 calculate factorial of that input and then print the result to user</h4>"
   ]
  },
  {
   "cell_type": "code",
   "execution_count": 8,
   "metadata": {},
   "outputs": [
    {
     "name": "stdout",
     "output_type": "stream",
     "text": [
      "Enter any number to find its factorial: 5\n"
     ]
    }
   ],
   "source": [
    "User_Input = int(input(\"Enter any number to find its factorial: \"))"
   ]
  },
  {
   "cell_type": "code",
   "execution_count": 9,
   "metadata": {},
   "outputs": [],
   "source": [
    "factorial = 5"
   ]
  },
  {
   "cell_type": "code",
   "execution_count": 10,
   "metadata": {},
   "outputs": [],
   "source": [
    "if User_Input < 0:\n",
    "    print(\"Negative number's factorial does not exist. Please insert positive integer \")\n",
    "    User_Input = int(input(\"Enter any number to find its factorial: \"))"
   ]
  },
  {
   "cell_type": "code",
   "execution_count": 11,
   "metadata": {},
   "outputs": [
    {
     "name": "stdout",
     "output_type": "stream",
     "text": [
      "Factorial of 5 is 600\n"
     ]
    }
   ],
   "source": [
    "for i in range(1, User_Input +1 ):\n",
    "    factorial *= i\n",
    "        \n",
    "print(\"Factorial of \" + str(User_Input) + \" is \" + str(factorial))"
   ]
  },
  {
   "cell_type": "markdown",
   "metadata": {},
   "source": [
    "<h3>Q 4 (a) :  If you could invite anyone, living or deceased, to dinner, who\n",
    "would you invite? Make a list that includes at least three people you’d like to\n",
    "invite to dinner. Then use your list to print a message to each person, inviting\n",
    "them to dinner.</h3>"
   ]
  },
  {
   "cell_type": "code",
   "execution_count": 14,
   "metadata": {},
   "outputs": [],
   "source": [
    "Invited = ['HASAN', 'ALI', 'MARYAM', 'MAHA', 'FAIZAN' ]"
   ]
  },
  {
   "cell_type": "code",
   "execution_count": 15,
   "metadata": {},
   "outputs": [
    {
     "name": "stdout",
     "output_type": "stream",
     "text": [
      "HASAN You are invited to dinner\n",
      "ALI You are invited to dinner\n",
      "MARYAM You are invited to dinner\n",
      "MAHA You are invited to dinner\n",
      "FAIZAN You are invited to dinner\n"
     ]
    }
   ],
   "source": [
    "for i in Invited:\n",
    "    print(i + \" You are invited to dinner\" )"
   ]
  },
  {
   "cell_type": "markdown",
   "metadata": {},
   "source": [
    "<h3>Q 4 (b) : You just heard that one of your guests can’t make the\n",
    "dinner, so you need to send out a new set of invitations. You’ll have to think of\n",
    "someone else to invite.<br/></br><br/>\n",
    "•\t Start with your program from Q 4 (a). Add a print statement at the\n",
    "end of your program stating the name of the guest who can’t make it.<br/></br><br/>\n",
    "•\t Modify your list, replacing the name of the guest who can’t make it with\n",
    "the name of the new person you are inviting.<br/></br><br/>\n",
    "•\t Print a second set of invitation messages, one for each person who is still\n",
    "in your list.<br/></br><br/></h3>"
   ]
  },
  {
   "cell_type": "code",
   "execution_count": 16,
   "metadata": {},
   "outputs": [
    {
     "name": "stdout",
     "output_type": "stream",
     "text": [
      "Hey Everyone! FAIZAN is not coming to dinner\n",
      "Hey Everyone! FAIZAN is not coming to dinner\n",
      "Hey Everyone! FAIZAN is not coming to dinner\n",
      "Hey Everyone! FAIZAN is not coming to dinner\n",
      "It's Ok FAIZAN See you soon\n"
     ]
    }
   ],
   "source": [
    "for i in Invited:\n",
    "    if i == \"FAIZAN\":\n",
    "        print(\"It's Ok FAIZAN See you soon\")\n",
    "    else:    \n",
    "        print(\"Hey Everyone! FAIZAN is not coming to dinner\" )"
   ]
  },
  {
   "cell_type": "code",
   "execution_count": 17,
   "metadata": {},
   "outputs": [],
   "source": [
    "Invited.remove(\"FAIZAN\")\n",
    "Invited.append(\"HAMZA\")"
   ]
  },
  {
   "cell_type": "code",
   "execution_count": 18,
   "metadata": {},
   "outputs": [
    {
     "name": "stdout",
     "output_type": "stream",
     "text": [
      "HASAN You are invited to dinner\n",
      "ALI You are invited to dinner\n",
      "MARYAM You are invited to dinner\n",
      "MAHA You are invited to dinner\n",
      "HAMZA You are invited to dinner\n"
     ]
    }
   ],
   "source": [
    "for i in Invited:\n",
    "    print(i + \" You are invited to dinner\" )"
   ]
  },
  {
   "cell_type": "markdown",
   "metadata": {},
   "source": [
    "<h3>Q 4 (c) : You just found a bigger dinner table, so now more space is\n",
    "available. Think of three more guests to invite to dinner.<br/></br><br/>\n",
    "•\t Start with your program from Q 4 (a) and (b) Add a print\n",
    "statement to the end of your program informing people that you found a\n",
    "bigger dinner table.<br/></br><br/>\n",
    "•\t Use insert() to add one new guest to the beginning of your list.<br/></br><br/>\n",
    "•\t Use insert() to add one new guest to the middle of your list.<br/></br><br/>\n",
    "•\t Use append() to add one new guest to the end of your list.<br/></br><br/>\n",
    "•\t Print a new set of invitation messages, one for each person in your list.<br/></br><br/></h3>"
   ]
  },
  {
   "cell_type": "code",
   "execution_count": 19,
   "metadata": {},
   "outputs": [
    {
     "name": "stdout",
     "output_type": "stream",
     "text": [
      "HASAN Hey Everyone! We are having a bigger dinning table so we need to invite 3 more persons.\n",
      "ALI Hey Everyone! We are having a bigger dinning table so we need to invite 3 more persons.\n",
      "MARYAM Hey Everyone! We are having a bigger dinning table so we need to invite 3 more persons.\n",
      "MAHA Hey Everyone! We are having a bigger dinning table so we need to invite 3 more persons.\n",
      "HAMZA Hey Everyone! We are having a bigger dinning table so we need to invite 3 more persons.\n"
     ]
    }
   ],
   "source": [
    "for i in Invited:\n",
    "    print(i + \" Hey Everyone! We are having a bigger dinning table so we need to invite 3 more persons.\")"
   ]
  },
  {
   "cell_type": "code",
   "execution_count": 20,
   "metadata": {},
   "outputs": [],
   "source": [
    "Invited.insert(0,\"NOMAN\")\n",
    "Invited.insert(1,\"AMIR\")\n",
    "Invited.append(\"ANAS\")"
   ]
  },
  {
   "cell_type": "code",
   "execution_count": 21,
   "metadata": {},
   "outputs": [
    {
     "name": "stdout",
     "output_type": "stream",
     "text": [
      "NOMAN You are invited to dinner\n",
      "AMIR You are invited to dinner\n",
      "HASAN You are invited to dinner\n",
      "ALI You are invited to dinner\n",
      "MARYAM You are invited to dinner\n",
      "MAHA You are invited to dinner\n",
      "HAMZA You are invited to dinner\n",
      "ANAS You are invited to dinner\n"
     ]
    }
   ],
   "source": [
    "for i in Invited:\n",
    "    print(i + \" You are invited to dinner\" )"
   ]
  },
  {
   "cell_type": "markdown",
   "metadata": {},
   "source": [
    "<h5> Q 5 : Here you have some data in variable below, your task is to make a list of specific word Surah then print the list and length of list</h5>\n"
   ]
  },
  {
   "cell_type": "code",
   "execution_count": 27,
   "metadata": {},
   "outputs": [
    {
     "name": "stdout",
     "output_type": "stream",
     "text": [
      "['Surah', 'Surah', 'Surah']\n",
      "length : 3\n"
     ]
    }
   ],
   "source": [
    "data = \"Surah I Who believe in the Unseen, Surah Are steadfast in prayer, And spend Surah out of what We Have provided for them;\"\n",
    "content = data.split()\n",
    "s_list = []\n",
    "for c in content:\n",
    "    if c == 'Surah':\n",
    "        s_list.append(c)\n",
    "        \n",
    "print(s_list)\n",
    "print('length : {}'.format(len(s_list)))"
   ]
  }
 ],
 "metadata": {
  "kernelspec": {
   "display_name": "Python 3",
   "language": "python",
   "name": "python3"
  },
  "language_info": {
   "codemirror_mode": {
    "name": "ipython",
    "version": 3
   },
   "file_extension": ".py",
   "mimetype": "text/x-python",
   "name": "python",
   "nbconvert_exporter": "python",
   "pygments_lexer": "ipython3",
   "version": "3.6.5"
  }
 },
 "nbformat": 4,
 "nbformat_minor": 2
}
